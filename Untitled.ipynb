{
 "cells": [
  {
   "cell_type": "code",
   "execution_count": 1,
   "metadata": {},
   "outputs": [],
   "source": [
    "import numpy as np\n",
    "import operator"
   ]
  },
  {
   "cell_type": "code",
   "execution_count": 2,
   "metadata": {},
   "outputs": [],
   "source": [
    "def     make_goal(state):\n",
    "    #goal = np.arange(arrlength)\n",
    "    #goal = x.reshape(size, size)\n",
    "    print(type(state['size']))\n",
    "    goal = np.empty_like((state['size'], state['size']), dtype=int)\n",
    "    #goal = np.array\n",
    "    n = 0\n",
    "    num = 1\n",
    "\n",
    "    while num < math.sqrt(state['size']):\n",
    "        for j in range(state['size'] + n):  # ->\n",
    "            goal[n, j] = num\n",
    "            num += 1\n",
    "        n += 1    \n",
    "        j = state.size - n\n",
    "        for i in range(n, state['size']): # !\n",
    "            goal[i, state['size'] - n] = num\n",
    "            num += 1\n",
    "        for j in range (state['size'] - n, 0): # <-\n",
    "            goal[state.size - n, j] = num\n",
    "            num += 1\n",
    "        for i in range(state['size'], 0 + n): # ¡\n",
    "            goal[i, -1 + n] = num\n",
    "            num += 1\n",
    "    return goal"
   ]
  },
  {
   "cell_type": "code",
   "execution_count": 3,
   "metadata": {},
   "outputs": [],
   "source": [
    "goal = np.zeros(shape=(3, 3), dtype=int)"
   ]
  },
  {
   "cell_type": "code",
   "execution_count": 4,
   "metadata": {},
   "outputs": [
    {
     "data": {
      "text/plain": [
       "(3, 3)"
      ]
     },
     "execution_count": 4,
     "metadata": {},
     "output_type": "execute_result"
    }
   ],
   "source": [
    "goal.shape"
   ]
  },
  {
   "cell_type": "code",
   "execution_count": 5,
   "metadata": {},
   "outputs": [
    {
     "data": {
      "text/plain": [
       "array([[0, 0, 0],\n",
       "       [0, 0, 0],\n",
       "       [0, 0, 0]])"
      ]
     },
     "execution_count": 5,
     "metadata": {},
     "output_type": "execute_result"
    }
   ],
   "source": [
    "goal"
   ]
  },
  {
   "cell_type": "code",
   "execution_count": 6,
   "metadata": {},
   "outputs": [],
   "source": [
    "def     valid_move(cur_state, move):\n",
    "    if ((cur_state['board'][cur_state['zero_pos'] + move])[0] < cur_state['size'] and \n",
    "    (cur_state['board'][cur_state['zero_pos'] + move])[1] < cur_state['size'] and \n",
    "    (cur_state['board'][cur_state['zero_pos'] + move])[0] >= 0 and \n",
    "    (cur_state['board'][cur_state['zero_pos'] + move])[1] >= 0):\n",
    "        return True\n",
    "    return False"
   ]
  },
  {
   "cell_type": "code",
   "execution_count": 8,
   "metadata": {},
   "outputs": [
    {
     "data": {
      "text/plain": [
       "4"
      ]
     },
     "execution_count": 8,
     "metadata": {},
     "output_type": "execute_result"
    }
   ],
   "source": [
    "new_pos = tuple(map(operator.sub, (2, 0), (0, 2)))\n",
    "abs(new_pos[0]) + abs(new_pos[1])"
   ]
  },
  {
   "cell_type": "code",
   "execution_count": 19,
   "metadata": {},
   "outputs": [
    {
     "data": {
      "text/plain": [
       "0"
      ]
     },
     "execution_count": 19,
     "metadata": {},
     "output_type": "execute_result"
    }
   ],
   "source": [
    "goal[new_pos]"
   ]
  },
  {
   "cell_type": "code",
   "execution_count": 12,
   "metadata": {},
   "outputs": [],
   "source": [
    "x = range(6, 0)\n",
    "for n in x:\n",
    "    print(n)"
   ]
  },
  {
   "cell_type": "code",
   "execution_count": null,
   "metadata": {},
   "outputs": [],
   "source": []
  }
 ],
 "metadata": {
  "kernelspec": {
   "display_name": "Python 3",
   "language": "python",
   "name": "python3"
  },
  "language_info": {
   "codemirror_mode": {
    "name": "ipython",
    "version": 3
   },
   "file_extension": ".py",
   "mimetype": "text/x-python",
   "name": "python",
   "nbconvert_exporter": "python",
   "pygments_lexer": "ipython3",
   "version": "3.7.3"
  }
 },
 "nbformat": 4,
 "nbformat_minor": 2
}
